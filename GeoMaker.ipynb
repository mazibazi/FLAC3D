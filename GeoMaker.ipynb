{
 "cells": [
  {
   "cell_type": "code",
   "execution_count": 1,
   "outputs": [],
   "source": [
    "import numpy as np"
   ],
   "metadata": {
    "collapsed": false,
    "pycharm": {
     "name": "#%%\n"
    }
   }
  },
  {
   "cell_type": "markdown",
   "source": [
    "Excavation properties with Python"
   ],
   "metadata": {
    "collapsed": false,
    "pycharm": {
     "name": "#%% md\n"
    }
   }
  },
  {
   "cell_type": "code",
   "execution_count": 2,
   "metadata": {
    "collapsed": true
   },
   "outputs": [
    {
     "name": "stdout",
     "output_type": "stream",
     "text": [
      "Result:  ['model_1.9_1.3_Glayer_0', 'model_2.3_3.2_Glayer_0', 'model_3.1_2.0_Glayer_0', 'model_0.5_2.4_Glayer_0', 'model_3.0_2.4_Glayer_1']\n"
     ]
    }
   ],
   "source": [
    "NumExcavation = 5\n",
    "model_cases     = []\n",
    "facePressure = []\n",
    "groutPressure = []\n",
    "grout_layer     = []\n",
    "modelExecute    = []\n",
    "\n",
    "for fp in np.arange(2.5, 0.4, -1):\n",
    "    gp = round(1.2 * fp, 1)\n",
    "    for gl in range(0,2):\n",
    "        model_cases.append(\"model_\"+str(fp)+\"_\"+str(gp)+\"_Glayer_\"+str(gl))\n",
    "\n",
    "for i in range(NumExcavation):\n",
    "    fp = (round(np.random.uniform(0.5, 3.1), 1))\n",
    "    gp = (round(np.random.uniform(1, 3.6), 1))\n",
    "    gl = np.random.randint(0, 2)\n",
    "    name = \"model_\"+str(fp)+\"_\"+str(gp)+\"_Glayer_\"+str(gl)\n",
    "    if name not in modelExecute and name not in model_cases:\n",
    "        modelExecute.append(name)\n",
    "        facePressure.append(fp*(-100000))\n",
    "        groutPressure.append(gp*(-100000))\n",
    "        grout_layer.append(gl)\n",
    "    else:\n",
    "        continue\n",
    "print(\"Result: \",modelExecute)\n"
   ]
  },
  {
   "cell_type": "markdown",
   "source": [
    "GeoMaker with Python"
   ],
   "metadata": {
    "collapsed": false,
    "pycharm": {
     "name": "#%% md\n"
    }
   }
  },
  {
   "cell_type": "code",
   "execution_count": 34,
   "outputs": [
    {
     "name": "stdout",
     "output_type": "stream",
     "text": [
      "['model_4_59_12', 'model_6_121_12', 'model_4_124_13', 'model_4_15_13', 'model_4_126_11', 'model_5_140_13', 'model_4_131_15', 'model_6_104_12', 'model_5_25_12', 'model_6_30_11']\n"
     ]
    }
   ],
   "source": [
    "numberOfModels = 10\n",
    "\n",
    "buildingLoad = []\n",
    "tunnelDepth = []\n",
    "waterTable = []\n",
    "modelCaseOld = []\n",
    "solveModel = []\n",
    "\n",
    "for td in range(10,15,2):\n",
    "    for bi in range(130,9,-60):\n",
    "        for wt in range (3, 6, 2):\n",
    "            modelCaseOld.append(\"model_\"+str(wt)+\"_\"+str(bi)+\"_\"+str(td))\n",
    "\n",
    "for el in range(numberOfModels):\n",
    "    tDepth = (round(np.random.uniform(10,15)))\n",
    "    wTable = (round(np.random.uniform(3, 6)))\n",
    "    bLoad = (round(np.random.uniform(0.1, 1.4), 2))\n",
    "    nameModel = \"model_\"+str(wTable)+\"_\"+str(round(bLoad*100))+\"_\"+str(tDepth)\n",
    "    if nameModel not in solveModel and nameModel not in modelCaseOld:\n",
    "        solveModel.append(nameModel)\n",
    "        buildingLoad.append(round(bLoad*(-100000), 1))\n",
    "        tunnelDepth.append(tDepth)\n",
    "        waterTable.append(wTable)\n",
    "print(solveModel)"
   ],
   "metadata": {
    "collapsed": false,
    "pycharm": {
     "name": "#%%\n"
    }
   }
  },
  {
   "cell_type": "code",
   "execution_count": 35,
   "outputs": [
    {
     "name": "stdout",
     "output_type": "stream",
     "text": [
      "[-59000.0, -121000.0, -124000.0, -15000.0, -126000.0, -140000.0, -131000.0, -104000.0, -25000.0, -30000.0]\n"
     ]
    }
   ],
   "source": [
    "print(buildingLoad)"
   ],
   "metadata": {
    "collapsed": false,
    "pycharm": {
     "name": "#%%\n"
    }
   }
  },
  {
   "cell_type": "markdown",
   "source": [
    "Soil Layer with Python"
   ],
   "metadata": {
    "collapsed": false,
    "pycharm": {
     "name": "#%% md\n"
    }
   }
  },
  {
   "cell_type": "code",
   "execution_count": 17,
   "outputs": [
    {
     "data": {
      "text/plain": "2"
     },
     "execution_count": 17,
     "metadata": {},
     "output_type": "execute_result"
    }
   ],
   "source": [
    "np.random.randint(1,7)"
   ],
   "metadata": {
    "collapsed": false,
    "pycharm": {
     "name": "#%%\n"
    }
   }
  },
  {
   "cell_type": "code",
   "execution_count": 20,
   "outputs": [
    {
     "name": "stdout",
     "output_type": "stream",
     "text": [
      "3\n",
      "6\n",
      "5\n",
      "4\n",
      "2\n"
     ]
    }
   ],
   "source": [
    "numSoilModel = 5\n",
    "for i in range (1,numSoilModel+1):\n",
    "    print(np.random.randint(1,7))\n"
   ],
   "metadata": {
    "collapsed": false,
    "pycharm": {
     "name": "#%%\n"
    }
   }
  },
  {
   "cell_type": "code",
   "source": [],
   "metadata": {
    "collapsed": false,
    "pycharm": {
     "name": "#%%\n"
    }
   },
   "execution_count": 52,
   "outputs": []
  },
  {
   "cell_type": "code",
   "execution_count": 57,
   "outputs": [
    {
     "name": "stdout",
     "output_type": "stream",
     "text": [
      "E\n"
     ]
    }
   ],
   "source": [
    "switch_demo(5)"
   ],
   "metadata": {
    "collapsed": false,
    "pycharm": {
     "name": "#%%\n"
    }
   }
  },
  {
   "cell_type": "code",
   "execution_count": 90,
   "outputs": [],
   "source": [
    "# numSoilModel = 5\n",
    "# for i in range (1,numSoilModel+1):\n",
    "#     soilLocation= np.random.randint(1,7)\n",
    "#     if soilLocation == 1: #GranPlaza\n",
    "#         Ft,Ct,St,Gt = 0.9,3.9,0.8,9\n",
    "#     elif soilLocation == 2: #SanBernardo\n",
    "#         Ft,Ct,St,Gt = 1.5,5.1,1.4,8.5\n",
    "#     elif soilLocation == 3: #SanSebastian\n",
    "#         Ft,Ct,St,Gt = 2.6,3,3.3,8.9\n",
    "#     elif soilLocation == 4: #PurtaJerez\n",
    "#         Ft,Ct,St,Gt = 3.2,11.8,1,7\n",
    "#     elif soilLocation == 5: #PlazaCuba\n",
    "#         Ft,Ct,St,Gt = 1.7,1.6,12.9,8.3\n",
    "#     elif  soilLocation == 6: #ParqueLosP\n",
    "#         Ft,Ct,St,Gt = 2.6,3,3.3,8.9\n",
    "#     Mt = 1000"
   ],
   "metadata": {
    "collapsed": false,
    "pycharm": {
     "name": "#%%\n"
    }
   }
  },
  {
   "cell_type": "code",
   "execution_count": 25,
   "outputs": [],
   "source": [
    "FtList = []\n",
    "CtList = []\n",
    "StList = []\n",
    "GtList = []\n",
    "MtList = []\n",
    "loList = []"
   ],
   "metadata": {
    "collapsed": false,
    "pycharm": {
     "name": "#%%\n"
    }
   }
  },
  {
   "cell_type": "code",
   "execution_count": 26,
   "outputs": [],
   "source": [
    "def soilThickness():\n",
    "    soilLocation= np.random.randint(1,7)\n",
    "    if soilLocation == 1: #GranPlaza\n",
    "        firstL ,secondL ,thirdL ,fourthL , loc= 0.9, 4, 1, 9, \"A\"\n",
    "    elif soilLocation == 2: #SanBernardo\n",
    "        firstL ,secondL ,thirdL ,fourthL , loc= 1.5,5 ,1.5 ,8.5, \"B\"\n",
    "    elif soilLocation == 3: #SanSebastian\n",
    "         firstL ,secondL ,thirdL ,fourthL , loc= 2.5 ,3, 3.5 ,9 , \"C\"\n",
    "    elif soilLocation == 4: #PurtaJerez\n",
    "         firstL ,secondL ,thirdL ,fourthL , loc= 3 ,12 ,1 ,7, \"D\"\n",
    "    elif soilLocation == 5: #PlazaCuba\n",
    "         firstL ,secondL ,thirdL ,fourthL , loc= 2,1.5 ,13 ,8.5 , \"E\"\n",
    "    elif  soilLocation == 6: #ParqueLosP\n",
    "        firstL ,secondL ,thirdL ,fourthL , loc= 2, 4, 11, 6, \"F\"\n",
    "    lastL = 1000\n",
    "    return  [firstL ,secondL ,thirdL ,fourthL, lastL, loc]"
   ],
   "metadata": {
    "collapsed": false,
    "pycharm": {
     "name": "#%%\n"
    }
   }
  },
  {
   "cell_type": "code",
   "execution_count": 27,
   "outputs": [],
   "source": [
    "numberOfModels = 10\n",
    "for el in range(numberOfModels):\n",
    "    fil,clay,sand,gravel,marl, location = soilThickness()\n",
    "    FtList.append(fil)\n",
    "    CtList.append(clay)\n",
    "    StList.append(sand)\n",
    "    GtList.append(gravel)\n",
    "    MtList.append(marl)\n"
   ],
   "metadata": {
    "collapsed": false,
    "pycharm": {
     "name": "#%%\n"
    }
   }
  },
  {
   "cell_type": "code",
   "execution_count": 29,
   "outputs": [
    {
     "name": "stdout",
     "output_type": "stream",
     "text": [
      "[0.9, 2, 1.5, 2, 2, 2.5, 0.9, 0.9, 1.5, 3] [4, 4, 5, 1.5, 1.5, 3, 4, 4, 5, 12] [1, 11, 1.5, 13, 13, 3.5, 1, 1, 1.5, 1] [9, 6, 8.5, 8.5, 8.5, 9, 9, 9, 8.5, 7] [1000, 1000, 1000, 1000, 1000, 1000, 1000, 1000, 1000, 1000] ['A', 'F', 'B', 'E', 'E', 'C', 'A', 'A', 'B', 'D']\n"
     ]
    }
   ],
   "source": [
    "FtList = []\n",
    "CtList = []\n",
    "StList = []\n",
    "GtList = []\n",
    "MtList = []\n",
    "loList = []\n",
    "\n",
    "numberOfModels = 10\n",
    "for el in range(numberOfModels):\n",
    "    soilLocation= np.random.randint(1,7)\n",
    "    if soilLocation == 1: #GranPlaza\n",
    "        firstL ,secondL ,thirdL ,fourthL , loc= 0.9, 4, 1, 9, \"A\"\n",
    "    elif soilLocation == 2: #SanBernardo\n",
    "        firstL ,secondL ,thirdL ,fourthL , loc= 1.5,5 ,1.5 ,8.5, \"B\"\n",
    "    elif soilLocation == 3: #SanSebastian\n",
    "         firstL ,secondL ,thirdL ,fourthL , loc= 2.5 ,3, 3.5 ,9 , \"C\"\n",
    "    elif soilLocation == 4: #PurtaJerez\n",
    "         firstL ,secondL ,thirdL ,fourthL , loc= 3 ,12 ,1 ,7, \"D\"\n",
    "    elif soilLocation == 5: #PlazaCuba\n",
    "         firstL ,secondL ,thirdL ,fourthL , loc= 2,1.5 ,13 ,8.5 , \"E\"\n",
    "    elif  soilLocation == 6: #ParqueLosP\n",
    "        firstL ,secondL ,thirdL ,fourthL , loc= 2, 4, 11, 6, \"F\"\n",
    "    lastL = 1000\n",
    "    FtList.append(firstL)\n",
    "    CtList.append(secondL)\n",
    "    StList.append(thirdL)\n",
    "    GtList.append(fourthL)\n",
    "    MtList.append(lastL)\n",
    "    loList.append(loc)\n",
    "print(FtList,\n",
    "    CtList,\n",
    "    StList,\n",
    "    GtList,\n",
    "    MtList,\n",
    "    loList\n",
    ")"
   ],
   "metadata": {
    "collapsed": false,
    "pycharm": {
     "name": "#%%\n"
    }
   }
  },
  {
   "cell_type": "code",
   "execution_count": 30,
   "outputs": [
    {
     "data": {
      "text/plain": "5"
     },
     "execution_count": 30,
     "metadata": {},
     "output_type": "execute_result"
    }
   ],
   "source": [],
   "metadata": {
    "collapsed": false,
    "pycharm": {
     "name": "#%%\n"
    }
   }
  }
 ],
 "metadata": {
  "kernelspec": {
   "name": "pycharm-c35f20ab",
   "language": "python",
   "display_name": "PyCharm (Truecar)"
  },
  "language_info": {
   "codemirror_mode": {
    "name": "ipython",
    "version": 2
   },
   "file_extension": ".py",
   "mimetype": "text/x-python",
   "name": "python",
   "nbconvert_exporter": "python",
   "pygments_lexer": "ipython2",
   "version": "2.7.6"
  }
 },
 "nbformat": 4,
 "nbformat_minor": 0
}